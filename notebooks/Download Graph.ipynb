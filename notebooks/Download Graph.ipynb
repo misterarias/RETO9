{
 "cells": [
  {
   "cell_type": "markdown",
   "metadata": {},
   "source": [
    "# Creación de datos\n"
   ]
  },
  {
   "cell_type": "markdown",
   "metadata": {},
   "source": [
    "## Asegurarse que existen las librerías necesarias:\n",
    "\n",
    "Esto ya se ha resuelto en la imagen de Docker, pero podría ser explícito"
   ]
  },
  {
   "cell_type": "code",
   "execution_count": 7,
   "metadata": {
    "collapsed": true
   },
   "outputs": [],
   "source": [
    "#install.packages(c('RCurl','XML','igraph','bitops'),dependencies=TRUE)"
   ]
  },
  {
   "cell_type": "markdown",
   "metadata": {},
   "source": [
    "## Hace falta _crawler.r_, que ya hemos descargado en _code/R_\n",
    "\n",
    "Via: http://semanticweb.cs.vu.nl/R/wikipedia_graph/crawler.R"
   ]
  },
  {
   "cell_type": "code",
   "execution_count": 8,
   "metadata": {
    "collapsed": true
   },
   "outputs": [],
   "source": [
    "source(\"code/R/crawler.R\")"
   ]
  },
  {
   "cell_type": "markdown",
   "metadata": {},
   "source": [
    "## Ejecutamos un scraping de la página de la Wikipedia\n",
    "\n",
    "En este caso, buscamos páginas relacionadas con _Blue box_, con hasta 2 niveles de profundidad"
   ]
  },
  {
   "cell_type": "code",
   "execution_count": 9,
   "metadata": {
    "collapsed": false,
    "scrolled": true
   },
   "outputs": [
    {
     "name": "stdout",
     "output_type": "stream",
     "text": [
      "[1] \"Getting https://simple.wikipedia.org/wiki/Blue_box\"\n",
      "[1] \"following https://simple.wikipedia.org/wiki/Blue_box\"\n",
      "[1] \"Getting http://simple.wikipedia.org/wiki/Tool\"\n",
      "[1] \"following http://simple.wikipedia.org/wiki/Tool\"\n",
      "[1] \"Getting http://simple.wikipedia.org/wiki/Telephone\"\n",
      "[1] \"following http://simple.wikipedia.org/wiki/Telephone\"\n",
      "[1] \"Getting http://simple.wikipedia.org/wiki/Sound\"\n",
      "[1] \"following http://simple.wikipedia.org/wiki/Sound\"\n",
      "[1] \"Getting http://simple.wikipedia.org/wiki/Company\"\n",
      "[1] \"following http://simple.wikipedia.org/wiki/Company\"\n",
      "[1] \"Getting http://simple.wikipedia.org/wiki/Employee\"\n",
      "[1] \"following http://simple.wikipedia.org/wiki/Employee\"\n",
      "[1] \"Getting http://simple.wikipedia.org/wiki/Program\"\n",
      "[1] \"following http://simple.wikipedia.org/wiki/Program\"\n",
      "[1] \"Getting http://simple.wikipedia.org/wiki/Steve_Wozniak\"\n",
      "[1] \"following http://simple.wikipedia.org/wiki/Steve_Wozniak\"\n",
      "[1] \"Getting http://simple.wikipedia.org/wiki/Steve_Jobs\"\n",
      "[1] \"following http://simple.wikipedia.org/wiki/Steve_Jobs\"\n",
      "[1] \"Getting http://simple.wikipedia.org/wiki/Student\"\n",
      "[1] \"following http://simple.wikipedia.org/wiki/Student\"\n",
      "[1] \"Getting http://simple.wikipedia.org/wiki/University_of_California\"\n",
      "[1] \"following http://simple.wikipedia.org/wiki/University_of_California\"\n",
      "[1] \"Getting http://simple.wikipedia.org/wiki/Pope\"\n",
      "[1] \"following http://simple.wikipedia.org/wiki/Pope\"\n",
      "[1] \"Getting http://simple.wikipedia.org/wiki/Red_box\"\n",
      "[1] \"following http://simple.wikipedia.org/wiki/Red_box\"\n",
      "[1] \"Saving to: datos/blue_box_2.csv\"\n",
      "[1] \"Done\"\n"
     ]
    }
   ],
   "source": [
    "blue_box_2 <- crawl(\"https://simple.wikipedia.org/wiki/Blue_box\", 2)\n",
    "save.graph(blue_box_2, \"datos/blue_box_2\")"
   ]
  },
  {
   "cell_type": "markdown",
   "metadata": {},
   "source": [
    "## El resultado es un grafo de 10 nodos\n",
    "\n",
    "Se ha almacenado en *datos/blue_box.csv*"
   ]
  }
 ],
 "metadata": {
  "kernelspec": {
   "display_name": "R",
   "language": "R",
   "name": "ir"
  },
  "language_info": {
   "codemirror_mode": "r",
   "file_extension": ".r",
   "mimetype": "text/x-r-source",
   "name": "R",
   "pygments_lexer": "r",
   "version": "3.3.1"
  }
 },
 "nbformat": 4,
 "nbformat_minor": 1
}
