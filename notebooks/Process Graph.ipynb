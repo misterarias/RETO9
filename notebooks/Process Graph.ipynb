{
 "cells": [
  {
   "cell_type": "markdown",
   "metadata": {},
   "source": [
    "# Procesamiento"
   ]
  },
  {
   "cell_type": "markdown",
   "metadata": {},
   "source": [
    "## Previo: cargar librería de CSV\n",
    "\n",
    "Para poder cargar ficheros CSV en Spark, es necesario haber arrancado la shell con soporte adecuado, o haber desplegado el JAR en los workers del cluster.\n",
    "\n",
    "Desde la shell el comando sería:\n",
    "\n",
    "*spark-shell --packages com.databricks:spark-csv_2.11:1.2.0*\n",
    "\n",
    "En nuestro caso, hemos optado por añadir lo siguiente al fichero de configuración de Spark, */usr/local/spark/conf/spark-defaults.conf*:\n",
    "  \n",
    "    spark.jars.packages     com.databricks:spark-csv_2.10:1.3.0\n"
   ]
  },
  {
   "cell_type": "code",
   "execution_count": 1,
   "metadata": {
    "collapsed": false
   },
   "outputs": [],
   "source": [
    "val blue_box_2 = sqlContext.read.format(\"com.databricks.spark.csv\").option(\"header\", \"true\").load(\"datos/blue_box_2.csv\")\n"
   ]
  },
  {
   "cell_type": "markdown",
   "metadata": {},
   "source": [
    "## Cargar vértices y aristas en un *GraphRDD*"
   ]
  },
  {
   "cell_type": "code",
   "execution_count": 3,
   "metadata": {
    "collapsed": false
   },
   "outputs": [
    {
     "data": {
      "text/plain": [
       "499"
      ]
     },
     "execution_count": 3,
     "metadata": {},
     "output_type": "execute_result"
    }
   ],
   "source": [
    "import org.apache.spark.graphx._\n",
    "import org.apache.spark.rdd.RDD\n",
    "import scala.util.MurmurHash\n",
    "\n",
    "val linksToFrom = blue_box_2.select(\"Source\", \"Target\")\n",
    "val pageNames = blue_box_2.select(\"Source\", \"Target\").flatMap(x => Iterable(x(0).toString, x(1).toString))\n",
    "val pageVertices: RDD[(VertexId, String)] = pageNames.distinct().map(x => (MurmurHash.stringHash(x), x))\n",
    "val linkEdges = linksToFrom.map(x => ((MurmurHash.stringHash(x(0).toString),MurmurHash.stringHash(x(1).toString)), 1)).reduceByKey(_+_).map(x => Edge(x._1._1, x._1._2,x._2))\n",
    "val graph = Graph(pageVertices, linkEdges)\n",
    "graph.numVertices // 475\n",
    "graph.numEdges // 499"
   ]
  }
 ],
 "metadata": {
  "kernelspec": {
   "display_name": "Apache Toree - Scala",
   "language": "scala",
   "name": "apache_toree_scala"
  },
  "language_info": {
   "name": "scala"
  }
 },
 "nbformat": 4,
 "nbformat_minor": 1
}
